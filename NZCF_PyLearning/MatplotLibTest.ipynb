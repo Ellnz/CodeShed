{
 "cells": [
  {
   "cell_type": "code",
   "execution_count": 4,
   "id": "c49aa77f-e5ec-48a7-aab6-c7ea2522340c",
   "metadata": {},
   "outputs": [],
   "source": [
    "import matplotlib.pyplot as plt\n",
    "import numpy as np\n",
    "import datetime\n",
    "import matplotlib.dates as mdates\n",
    "from matplotlib.ticker import AutoMinorLocator\n",
    "import pandas as pd"
   ]
  },
  {
   "cell_type": "code",
   "execution_count": 17,
   "id": "25cad1a0-c38f-48e4-af2b-54409f9ca0d7",
   "metadata": {},
   "outputs": [],
   "source": [
    "weekly_prices = pd.read_csv(\"data/nzu-weekly-prices-data.csv\")\n",
    "weekly_prices['date'] = pd.to_datetime(weekly_prices['date'])\n",
    "nzcf_planted = pd.read_csv(\"data/nzcfPlantingMaster.csv\")\n",
    "nzcf_planted['plantyear'] = pd.to_datetime(nzcf_planted['plantyear'], format = \"%Y\").dt.strftime('%Y-%m-%d')\n"
   ]
  },
  {
   "cell_type": "code",
   "execution_count": 20,
   "id": "502806ea-9323-4e35-b3f5-9854e18282c9",
   "metadata": {},
   "outputs": [
    {
     "data": {
      "text/html": [
       "<div>\n",
       "<style scoped>\n",
       "    .dataframe tbody tr th:only-of-type {\n",
       "        vertical-align: middle;\n",
       "    }\n",
       "\n",
       "    .dataframe tbody tr th {\n",
       "        vertical-align: top;\n",
       "    }\n",
       "\n",
       "    .dataframe thead th {\n",
       "        text-align: right;\n",
       "    }\n",
       "</style>\n",
       "<table border=\"1\" class=\"dataframe\">\n",
       "  <thead>\n",
       "    <tr style=\"text-align: right;\">\n",
       "      <th></th>\n",
       "      <th>id</th>\n",
       "      <th>forest_id</th>\n",
       "      <th>f_name</th>\n",
       "      <th>plantclass</th>\n",
       "      <th>plantyear</th>\n",
       "      <th>feature</th>\n",
       "      <th>ets_class</th>\n",
       "      <th>ets_class_desc</th>\n",
       "      <th>layer</th>\n",
       "      <th>path_</th>\n",
       "      <th>caa_status</th>\n",
       "      <th>area_ha</th>\n",
       "      <th>acres</th>\n",
       "    </tr>\n",
       "  </thead>\n",
       "  <tbody>\n",
       "    <tr>\n",
       "      <th>0</th>\n",
       "      <td>1</td>\n",
       "      <td>F_208</td>\n",
       "      <td>Pine Hill</td>\n",
       "      <td>planting area</td>\n",
       "      <td>2020-01-01</td>\n",
       "      <td>Eligible Plantation Area</td>\n",
       "      <td>Post 1989 eligible</td>\n",
       "      <td>NaN</td>\n",
       "      <td>NaN</td>\n",
       "      <td>NaN</td>\n",
       "      <td>Active</td>\n",
       "      <td>331.82</td>\n",
       "      <td>819.92722</td>\n",
       "    </tr>\n",
       "    <tr>\n",
       "      <th>1</th>\n",
       "      <td>2</td>\n",
       "      <td>F_203</td>\n",
       "      <td>Kura</td>\n",
       "      <td>planting area</td>\n",
       "      <td>2020-01-01</td>\n",
       "      <td>Eligible Plantation Area</td>\n",
       "      <td>Post 1989 eligible</td>\n",
       "      <td>NaN</td>\n",
       "      <td>NaN</td>\n",
       "      <td>NaN</td>\n",
       "      <td>Active</td>\n",
       "      <td>110.26</td>\n",
       "      <td>272.45246</td>\n",
       "    </tr>\n",
       "    <tr>\n",
       "      <th>2</th>\n",
       "      <td>3</td>\n",
       "      <td>F_204</td>\n",
       "      <td>Pukemanu</td>\n",
       "      <td>planting area</td>\n",
       "      <td>2020-01-01</td>\n",
       "      <td>Eligible Plantation Area</td>\n",
       "      <td>Post 1989 eligible</td>\n",
       "      <td>NaN</td>\n",
       "      <td>NaN</td>\n",
       "      <td>NaN</td>\n",
       "      <td>Active</td>\n",
       "      <td>213.94</td>\n",
       "      <td>528.64574</td>\n",
       "    </tr>\n",
       "    <tr>\n",
       "      <th>3</th>\n",
       "      <td>4</td>\n",
       "      <td>F_207</td>\n",
       "      <td>Range Road</td>\n",
       "      <td>planting area</td>\n",
       "      <td>2019-01-01</td>\n",
       "      <td>Eligible Plantation Area</td>\n",
       "      <td>Post 1989 Eligible</td>\n",
       "      <td>NaN</td>\n",
       "      <td>Range_Road_Planting_Area</td>\n",
       "      <td>C:\\Users\\LeoPaolini\\OneDrive - NZ Carbon Farmi...</td>\n",
       "      <td>Active</td>\n",
       "      <td>300.34</td>\n",
       "      <td>742.14014</td>\n",
       "    </tr>\n",
       "    <tr>\n",
       "      <th>4</th>\n",
       "      <td>5</td>\n",
       "      <td>F_198</td>\n",
       "      <td>Oporae Station</td>\n",
       "      <td>planting area</td>\n",
       "      <td>2020-01-01</td>\n",
       "      <td>Eligible Plantation Area</td>\n",
       "      <td>Post 1989 eligible</td>\n",
       "      <td>NaN</td>\n",
       "      <td>NaN</td>\n",
       "      <td>NaN</td>\n",
       "      <td>Active</td>\n",
       "      <td>722.53</td>\n",
       "      <td>1785.37163</td>\n",
       "    </tr>\n",
       "  </tbody>\n",
       "</table>\n",
       "</div>"
      ],
      "text/plain": [
       "   id forest_id          f_name     plantclass   plantyear  \\\n",
       "0   1     F_208       Pine Hill  planting area  2020-01-01   \n",
       "1   2     F_203            Kura  planting area  2020-01-01   \n",
       "2   3     F_204        Pukemanu  planting area  2020-01-01   \n",
       "3   4     F_207      Range Road  planting area  2019-01-01   \n",
       "4   5     F_198  Oporae Station  planting area  2020-01-01   \n",
       "\n",
       "                    feature           ets_class  ets_class_desc  \\\n",
       "0  Eligible Plantation Area  Post 1989 eligible             NaN   \n",
       "1  Eligible Plantation Area  Post 1989 eligible             NaN   \n",
       "2  Eligible Plantation Area  Post 1989 eligible             NaN   \n",
       "3  Eligible Plantation Area  Post 1989 Eligible             NaN   \n",
       "4  Eligible Plantation Area  Post 1989 eligible             NaN   \n",
       "\n",
       "                      layer  \\\n",
       "0                       NaN   \n",
       "1                       NaN   \n",
       "2                       NaN   \n",
       "3  Range_Road_Planting_Area   \n",
       "4                       NaN   \n",
       "\n",
       "                                               path_ caa_status  area_ha  \\\n",
       "0                                                NaN     Active   331.82   \n",
       "1                                                NaN     Active   110.26   \n",
       "2                                                NaN     Active   213.94   \n",
       "3  C:\\Users\\LeoPaolini\\OneDrive - NZ Carbon Farmi...     Active   300.34   \n",
       "4                                                NaN     Active   722.53   \n",
       "\n",
       "        acres  \n",
       "0   819.92722  \n",
       "1   272.45246  \n",
       "2   528.64574  \n",
       "3   742.14014  \n",
       "4  1785.37163  "
      ]
     },
     "execution_count": 20,
     "metadata": {},
     "output_type": "execute_result"
    }
   ],
   "source": [
    "nzcf_planted['acres'] = nzcf_planted['area_ha']*2.471\n",
    "nzcf_planted.head()"
   ]
  },
  {
   "cell_type": "code",
   "execution_count": 35,
   "id": "70043f6a-b7fb-4885-89f4-3a22cfdc54c2",
   "metadata": {},
   "outputs": [
    {
     "data": {
      "text/plain": [
       "Text(0, 0.5, 'Area Acres')"
      ]
     },
     "execution_count": 35,
     "metadata": {},
     "output_type": "execute_result"
    },
    {
     "data": {
      "image/png": "[encoded data removed]",
      "text/plain": [
       "<Figure size 432x288 with 1 Axes>"
      ]
     },
     "metadata": {
      "needs_background": "light"
     },
     "output_type": "display_data"
    },
    {
     "data": {
      "image/png": "[encoded data removed]",
      "text/plain": [
       "<Figure size 432x288 with 2 Axes>"
      ]
     },
     "metadata": {
      "needs_background": "light"
     },
     "output_type": "display_data"
    }
   ],
   "source": [
    "fig, ax = plt.subplots()\n",
    "x = nzcf_planted['plantyear']\n",
    "y1 = nzcf_planted['area_ha']\n",
    "y2 = nzcf_planted['acres']\n",
    "fig, ax1 = plt.subplots()\n",
    "\n",
    "ax2 = ax1.twinx()\n",
    "ax1.plot(x, y1, 'g-')\n",
    "ax2.plot(x, y2, 'b-')\n",
    "\n",
    "ax1.set_xlabel(\"Plant Year\")\n",
    "ax1.set_ylabel(\"Area ha\", color='g')\n",
    "ax2.set_ylabel(\"Area Acres\", color='b')\n",
    "\n",
    "\n",
    "#plt.show()"
   ]
  },
  {
   "cell_type": "code",
   "execution_count": null,
   "id": "33744bb7-109b-4995-afbb-fde4945ba77d",
   "metadata": {},
   "outputs": [],
   "source": []
  },
  {
   "cell_type": "code",
   "execution_count": null,
   "id": "f073f746-b2ea-4459-adb9-3429053a160d",
   "metadata": {},
   "outputs": [],
   "source": []
  }
 ],
 "metadata": {
  "kernelspec": {
   "display_name": "Python 3 (ipykernel)",
   "language": "python",
   "name": "python3"
  },
  "language_info": {
   "codemirror_mode": {
    "name": "ipython",
    "version": 3
   },
   "file_extension": ".py",
   "mimetype": "text/x-python",
   "name": "python",
   "nbconvert_exporter": "python",
   "pygments_lexer": "ipython3",
   "version": "3.9.12"
  }
 },
 "nbformat": 4,
 "nbformat_minor": 5
}
