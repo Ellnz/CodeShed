{
 "cells": [
  {
   "cell_type": "code",
   "execution_count": 1,
   "id": "5af4fd09",
   "metadata": {},
   "outputs": [],
   "source": [
    "import pandas as pd\n",
    "import numpy as np\n",
    "from plotnine import *\n",
    "from mizani.breaks import date_breaks\n",
    "%matplotlib inline"
   ]
  },
  {
   "cell_type": "code",
   "execution_count": 2,
   "id": "09b49b02",
   "metadata": {},
   "outputs": [],
   "source": [
    "weekly_prices = pd.read_csv(\"data/nzu-weekly-prices-data.csv\")"
   ]
  },
  {
   "cell_type": "code",
   "execution_count": 5,
   "id": "4b9cb639",
   "metadata": {},
   "outputs": [
    {
     "data": {
      "text/html": [
       "<div>\n",
       "<style scoped>\n",
       "    .dataframe tbody tr th:only-of-type {\n",
       "        vertical-align: middle;\n",
       "    }\n",
       "\n",
       "    .dataframe tbody tr th {\n",
       "        vertical-align: top;\n",
       "    }\n",
       "\n",
       "    .dataframe thead th {\n",
       "        text-align: right;\n",
       "    }\n",
       "</style>\n",
       "<table border=\"1\" class=\"dataframe\">\n",
       "  <thead>\n",
       "    <tr style=\"text-align: right;\">\n",
       "      <th></th>\n",
       "      <th>date</th>\n",
       "      <th>price</th>\n",
       "      <th>reference</th>\n",
       "    </tr>\n",
       "  </thead>\n",
       "  <tbody>\n",
       "    <tr>\n",
       "      <th>0</th>\n",
       "      <td>2010/05/14</td>\n",
       "      <td>17.75</td>\n",
       "      <td>http://www.carbonnews.co.nz/story.asp?storyID=...</td>\n",
       "    </tr>\n",
       "    <tr>\n",
       "      <th>1</th>\n",
       "      <td>2010/05/21</td>\n",
       "      <td>17.50</td>\n",
       "      <td>http://www.carbonnews.co.nz/story.asp?storyID=...</td>\n",
       "    </tr>\n",
       "    <tr>\n",
       "      <th>2</th>\n",
       "      <td>2010/05/29</td>\n",
       "      <td>17.50</td>\n",
       "      <td>http://www.carbonnews.co.nz/story.asp?storyID=...</td>\n",
       "    </tr>\n",
       "    <tr>\n",
       "      <th>3</th>\n",
       "      <td>2010/06/11</td>\n",
       "      <td>17.00</td>\n",
       "      <td>http://www.carbonnews.co.nz/story.asp?storyID=...</td>\n",
       "    </tr>\n",
       "    <tr>\n",
       "      <th>4</th>\n",
       "      <td>2010/06/25</td>\n",
       "      <td>17.75</td>\n",
       "      <td>http://www.carbonnews.co.nz/story.asp?storyID=...</td>\n",
       "    </tr>\n",
       "  </tbody>\n",
       "</table>\n",
       "</div>"
      ],
      "text/plain": [
       "         date  price                                          reference\n",
       "0  2010/05/14  17.75  http://www.carbonnews.co.nz/story.asp?storyID=...\n",
       "1  2010/05/21  17.50  http://www.carbonnews.co.nz/story.asp?storyID=...\n",
       "2  2010/05/29  17.50  http://www.carbonnews.co.nz/story.asp?storyID=...\n",
       "3  2010/06/11  17.00  http://www.carbonnews.co.nz/story.asp?storyID=...\n",
       "4  2010/06/25  17.75  http://www.carbonnews.co.nz/story.asp?storyID=..."
      ]
     },
     "execution_count": 5,
     "metadata": {},
     "output_type": "execute_result"
    }
   ],
   "source": [
    "weekly_prices.head()"
   ]
  },
  {
   "cell_type": "code",
   "execution_count": 6,
   "id": "7cf9405f",
   "metadata": {},
   "outputs": [
    {
     "data": {
      "text/plain": [
       "date          object\n",
       "price        float64\n",
       "reference     object\n",
       "dtype: object"
      ]
     },
     "execution_count": 6,
     "metadata": {},
     "output_type": "execute_result"
    }
   ],
   "source": [
    "weekly_prices.dtypes"
   ]
  },
  {
   "cell_type": "code",
   "execution_count": 9,
   "id": "c77b25f5",
   "metadata": {},
   "outputs": [],
   "source": [
    "weeklyDF = weekly_prices['date'] = pd.to_datetime(weekly_prices['date'])"
   ]
  },
  {
   "cell_type": "code",
   "execution_count": 8,
   "id": "84aafa08",
   "metadata": {},
   "outputs": [
    {
     "data": {
      "text/plain": [
       "0   2010-05-14\n",
       "1   2010-05-21\n",
       "2   2010-05-29\n",
       "3   2010-06-11\n",
       "4   2010-06-25\n",
       "Name: date, dtype: datetime64[ns]"
      ]
     },
     "execution_count": 8,
     "metadata": {},
     "output_type": "execute_result"
    }
   ],
   "source": [
    "weeklyDF.head()"
   ]
  },
  {
   "cell_type": "code",
   "execution_count": 10,
   "id": "b81c510b",
   "metadata": {},
   "outputs": [
    {
     "data": {
      "text/plain": [
       "dtype('<M8[ns]')"
      ]
     },
     "execution_count": 10,
     "metadata": {},
     "output_type": "execute_result"
    }
   ],
   "source": [
    "weeklyDF.dtypes"
   ]
  },
  {
   "cell_type": "code",
   "execution_count": 13,
   "id": "96938eca",
   "metadata": {},
   "outputs": [
    {
     "data": {
      "text/plain": [
       "<AxesSubplot:>"
      ]
     },
     "execution_count": 13,
     "metadata": {},
     "output_type": "execute_result"
    },
    {
     "data": {
      "image/png": "[encoded data removed]",
      "text/plain": [
       "<Figure size 432x288 with 1 Axes>"
      ]
     },
     "metadata": {
      "needs_background": "light"
     },
     "output_type": "display_data"
    }
   ],
   "source": [
    "weekly_prices.plot()"
   ]
  },
  {
   "cell_type": "code",
   "execution_count": 5,
   "id": "20b970b1",
   "metadata": {},
   "outputs": [
    {
     "data": {
      "image/png": "[encoded data removed]",
      "text/plain": [
       "<Figure size 1100x550 with 1 Axes>"
      ]
     },
     "metadata": {},
     "output_type": "display_data"
    },
    {
     "data": {
      "text/plain": [
       "<ggplot: (170742396407)>"
      ]
     },
     "execution_count": 5,
     "metadata": {},
     "output_type": "execute_result"
    }
   ],
   "source": [
    "chart = ggplot(data=weekly, mapping=aes(x=\"date\", y=\"price\"))\n",
    "bars = geom_col()\n",
    "labels = labs(x=\"Date\", y=\"Price\", title=\"Price over Time\")\n",
    "theme_grammer = theme(figure_size=(11,5.5))\n",
    "\n",
    "\n",
    "bar4 = chart + bars + labels + theme_grammer\n",
    "\n",
    "bar4\n",
    "\n"
   ]
  },
  {
   "cell_type": "code",
   "execution_count": 29,
   "id": "582e2b7c",
   "metadata": {},
   "outputs": [
    {
     "ename": "TypeError",
     "evalue": "Unknown argument type <class 'pandas.core.series.Series'>, expected dataframe.",
     "output_type": "error",
     "traceback": [
      "\u001b[1;31m---------------------------------------------------------------------------\u001b[0m",
      "\u001b[1;31mTypeError\u001b[0m                                 Traceback (most recent call last)",
      "Input \u001b[1;32mIn [29]\u001b[0m, in \u001b[0;36m<cell line: 1>\u001b[1;34m()\u001b[0m\n\u001b[1;32m----> 1\u001b[0m \u001b[43mggplot\u001b[49m\u001b[43m(\u001b[49m\u001b[43mweeklyDF\u001b[49m\u001b[43m,\u001b[49m\u001b[43m \u001b[49m\u001b[43maes\u001b[49m\u001b[43m(\u001b[49m\u001b[43mx\u001b[49m\u001b[38;5;241;43m=\u001b[39;49m\u001b[38;5;124;43m'\u001b[39;49m\u001b[38;5;124;43mdate\u001b[39;49m\u001b[38;5;124;43m'\u001b[39;49m\u001b[43m,\u001b[49m\u001b[43m \u001b[49m\u001b[43my\u001b[49m\u001b[38;5;241;43m=\u001b[39;49m\u001b[38;5;124;43m'\u001b[39;49m\u001b[38;5;124;43mprice\u001b[39;49m\u001b[38;5;124;43m'\u001b[39;49m\u001b[43m)\u001b[49m\u001b[43m)\u001b[49m \u001b[38;5;241m+\u001b[39m geom_line(aes(group\u001b[38;5;241m=\u001b[39m\u001b[38;5;241m1\u001b[39m)) \u001b[38;5;241m+\u001b[39m scale_x_date(breaks\u001b[38;5;241m=\u001b[39mdate_breaks(\u001b[38;5;124m\"\u001b[39m\u001b[38;5;124m1 year\u001b[39m\u001b[38;5;124m\"\u001b[39m))\n",
      "File \u001b[1;32m~\\anaconda3\\lib\\site-packages\\plotnine\\ggplot.py:58\u001b[0m, in \u001b[0;36mggplot.__init__\u001b[1;34m(self, data, mapping, environment)\u001b[0m\n\u001b[0;32m     56\u001b[0m \u001b[38;5;28;01mdef\u001b[39;00m \u001b[38;5;21m__init__\u001b[39m(\u001b[38;5;28mself\u001b[39m, data\u001b[38;5;241m=\u001b[39m\u001b[38;5;28;01mNone\u001b[39;00m, mapping\u001b[38;5;241m=\u001b[39m\u001b[38;5;28;01mNone\u001b[39;00m, environment\u001b[38;5;241m=\u001b[39m\u001b[38;5;28;01mNone\u001b[39;00m):\n\u001b[0;32m     57\u001b[0m     \u001b[38;5;66;03m# Allow some sloppiness\u001b[39;00m\n\u001b[1;32m---> 58\u001b[0m     data, mapping \u001b[38;5;241m=\u001b[39m \u001b[43morder_as_data_mapping\u001b[49m\u001b[43m(\u001b[49m\u001b[43mdata\u001b[49m\u001b[43m,\u001b[49m\u001b[43m \u001b[49m\u001b[43mmapping\u001b[49m\u001b[43m)\u001b[49m\n\u001b[0;32m     59\u001b[0m     \u001b[38;5;28;01mif\u001b[39;00m mapping \u001b[38;5;129;01mis\u001b[39;00m \u001b[38;5;28;01mNone\u001b[39;00m:\n\u001b[0;32m     60\u001b[0m         mapping \u001b[38;5;241m=\u001b[39m aes()\n",
      "File \u001b[1;32m~\\anaconda3\\lib\\site-packages\\plotnine\\utils.py:1029\u001b[0m, in \u001b[0;36morder_as_data_mapping\u001b[1;34m(*args)\u001b[0m\n\u001b[0;32m   1023\u001b[0m     \u001b[38;5;28;01mraise\u001b[39;00m \u001b[38;5;167;01mTypeError\u001b[39;00m(\n\u001b[0;32m   1024\u001b[0m         \u001b[38;5;124mf\u001b[39m\u001b[38;5;124m\"\u001b[39m\u001b[38;5;124mUnknown argument type \u001b[39m\u001b[38;5;132;01m{\u001b[39;00m\u001b[38;5;28mtype\u001b[39m(mapping)\u001b[38;5;132;01m!r}\u001b[39;00m\u001b[38;5;124m, \u001b[39m\u001b[38;5;124m\"\u001b[39m\n\u001b[0;32m   1025\u001b[0m         \u001b[38;5;124m\"\u001b[39m\u001b[38;5;124mexpected mapping/aes.\u001b[39m\u001b[38;5;124m\"\u001b[39m\n\u001b[0;32m   1026\u001b[0m     )\n\u001b[0;32m   1028\u001b[0m \u001b[38;5;28;01mif\u001b[39;00m \u001b[38;5;129;01mnot\u001b[39;00m is_data_like(data) \u001b[38;5;129;01mand\u001b[39;00m data \u001b[38;5;129;01mis\u001b[39;00m \u001b[38;5;129;01mnot\u001b[39;00m \u001b[38;5;28;01mNone\u001b[39;00m:\n\u001b[1;32m-> 1029\u001b[0m     \u001b[38;5;28;01mraise\u001b[39;00m \u001b[38;5;167;01mTypeError\u001b[39;00m(\n\u001b[0;32m   1030\u001b[0m         \u001b[38;5;124m\"\u001b[39m\u001b[38;5;124mUnknown argument type \u001b[39m\u001b[38;5;132;01m{!r}\u001b[39;00m\u001b[38;5;124m, expected dataframe.\u001b[39m\u001b[38;5;124m\"\u001b[39m\n\u001b[0;32m   1031\u001b[0m         \u001b[38;5;241m.\u001b[39mformat(\u001b[38;5;28mtype\u001b[39m(data))\n\u001b[0;32m   1032\u001b[0m     )\n\u001b[0;32m   1034\u001b[0m \u001b[38;5;28;01mreturn\u001b[39;00m data, mapping\n",
      "\u001b[1;31mTypeError\u001b[0m: Unknown argument type <class 'pandas.core.series.Series'>, expected dataframe."
     ]
    }
   ],
   "source": [
    "ggplot(weeklyDF, aes(x='date', y='price')) + geom_line(aes(group=1)) + scale_x_date(breaks=date_breaks(\"1 year\"))"
   ]
  },
  {
   "cell_type": "code",
   "execution_count": null,
   "id": "6943aff7",
   "metadata": {
    "scrolled": true
   },
   "outputs": [],
   "source": [
    "# why doesn't this work\n",
    "plot = ggplot(weekly, aes(x='date', y='price')) + geom_line() + geom_point()\n",
    "plot"
   ]
  },
  {
   "cell_type": "code",
   "execution_count": null,
   "id": "7e1b7428",
   "metadata": {},
   "outputs": [],
   "source": [
    "\n",
    "# X value will be: year (yyyy)\n",
    "# Y: total purchased CT area (group-by year as bars?) (ha)\n",
    "# Y2: line depicting NZU price over year ($)\n",
    "\n",
    "\n",
    "\n"
   ]
  },
  {
   "cell_type": "code",
   "execution_count": null,
   "id": "af321348",
   "metadata": {},
   "outputs": [],
   "source": []
  }
 ],
 "metadata": {
  "kernelspec": {
   "display_name": "Python 3 (ipykernel)",
   "language": "python",
   "name": "python3"
  },
  "language_info": {
   "codemirror_mode": {
    "name": "ipython",
    "version": 3
   },
   "file_extension": ".py",
   "mimetype": "text/x-python",
   "name": "python",
   "nbconvert_exporter": "python",
   "pygments_lexer": "ipython3",
   "version": "3.9.12"
  }
 },
 "nbformat": 4,
 "nbformat_minor": 5
}
